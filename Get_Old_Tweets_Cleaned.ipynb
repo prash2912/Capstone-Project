{
 "cells": [
  {
   "cell_type": "code",
   "execution_count": 1,
   "metadata": {},
   "outputs": [],
   "source": [
    "# pip install GetOldTweets3\n",
    "import csv\n",
    "import time\n",
    "\n",
    "import GetOldTweets3 as got\n",
    "import pandas as pd"
   ]
  },
  {
   "cell_type": "code",
   "execution_count": 2,
   "metadata": {},
   "outputs": [],
   "source": [
    "start_date = \"2014-01-01\"\n",
    "end_date = \"2014-01-01\""
   ]
  },
  {
   "cell_type": "code",
   "execution_count": 3,
   "metadata": {},
   "outputs": [],
   "source": [
    "tweetCriteria = got.manager.TweetCriteria().setQuerySearch('infosys')\\\n",
    "                                           .setSince(start_date)\\\n",
    "                                           .setUntil(end_date)"
   ]
  },
  {
   "cell_type": "code",
   "execution_count": 4,
   "metadata": {},
   "outputs": [],
   "source": [
    "started = time.time()\n",
    "all_tweets = got.manager.TweetManager.getTweets(tweetCriteria)\n",
    "ended = time.time()"
   ]
  },
  {
   "cell_type": "code",
   "execution_count": 5,
   "metadata": {},
   "outputs": [
    {
     "name": "stdout",
     "output_type": "stream",
     "text": [
      "15.38332486152649\n"
     ]
    }
   ],
   "source": [
    "print(ended-started)"
   ]
  },
  {
   "cell_type": "code",
   "execution_count": 6,
   "metadata": {},
   "outputs": [],
   "source": [
    "lines = [['id', 'permalink', 'username', 'to', 'text', 'date', 'retweets', 'favorites', 'mentions', 'hashtags', 'geo']]\n",
    "for _ in all_tweets:\n",
    "    lines.append([_.id, _.permalink, _.username, _.to, _.text, _.date, _.retweets, _.favorites, _.mentions, _.hashtags, _.geo])"
   ]
  },
  {
   "cell_type": "code",
   "execution_count": 7,
   "metadata": {},
   "outputs": [],
   "source": [
    "with open(f'Infosys_{start_date}_to_{end_date}.csv', 'w') as csvFile:\n",
    "    writer = csv.writer(csvFile)\n",
    "    writer.writerows(lines)"
   ]
  },
  {
   "cell_type": "code",
   "execution_count": 8,
   "metadata": {},
   "outputs": [],
   "source": [
    "csvFile.close()"
   ]
  },
  {
   "cell_type": "code",
   "execution_count": 9,
   "metadata": {},
   "outputs": [
    {
     "name": "stdout",
     "output_type": "stream",
     "text": [
      "geckodriver.log\t\t\t      Infosys_2014_to_2019.csv\r\n",
      "Get_Old_Tweets-Copy1.ipynb\t      money_control_scrapper.ipynb\r\n",
      "Get_Old_Tweets.ipynb\t\t      scrap.py\r\n",
      "getoldtweets.py\t\t\t      twitter_scrapper.py\r\n",
      "Infosys_2014-01-01_to_2014-01-01.csv\r\n"
     ]
    }
   ],
   "source": [
    "! ls"
   ]
  }
 ],
 "metadata": {
  "kernelspec": {
   "display_name": "Python 3",
   "language": "python",
   "name": "python3"
  },
  "language_info": {
   "codemirror_mode": {
    "name": "ipython",
    "version": 3
   },
   "file_extension": ".py",
   "mimetype": "text/x-python",
   "name": "python",
   "nbconvert_exporter": "python",
   "pygments_lexer": "ipython3",
   "version": "3.6.7"
  }
 },
 "nbformat": 4,
 "nbformat_minor": 2
}
